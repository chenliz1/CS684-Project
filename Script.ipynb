{
 "cells": [
  {
   "cell_type": "code",
   "execution_count": 1,
   "metadata": {},
   "outputs": [],
   "source": [
    "%matplotlib inline\n",
    "from data.dataLoader import *\n",
    "import torch.utils.data as data\n",
    "import numpy as np\n",
    "from models.model_resnet import ResnetDispModel\n",
    "from Validator import Validator\n",
    "from trainer import Trainer"
   ]
  },
  {
   "cell_type": "code",
   "execution_count": 2,
   "metadata": {},
   "outputs": [],
   "source": [
    "val_dataset = TwoViewDataset(\"data/dataset/\", is_train=False, transforms=JointToTensor())\n",
    "trn_dataset = TwoViewDataset(\"data/dataset/\", is_train=True, transforms=JointToTensor())"
   ]
  },
  {
   "cell_type": "code",
   "execution_count": 3,
   "metadata": {},
   "outputs": [],
   "source": [
    "val_loader = data.DataLoader(val_dataset, batch_size=1, num_workers=1, shuffle=False)\n",
    "trn_loader = data.DataLoader(trn_dataset, batch_size=8, num_workers=1, shuffle=False)"
   ]
  },
  {
   "cell_type": "code",
   "execution_count": 4,
   "metadata": {},
   "outputs": [
    {
     "data": {
      "text/plain": [
       "(tensor([[[0.0392, 0.0392, 0.0549,  ..., 0.1608, 0.1843, 0.1333],\n",
       "          [0.0275, 0.0275, 0.0510,  ..., 0.1843, 0.1843, 0.1490],\n",
       "          [0.0353, 0.0314, 0.0471,  ..., 0.2510, 0.1882, 0.1176],\n",
       "          ...,\n",
       "          [0.0471, 0.0510, 0.0549,  ..., 1.0000, 1.0000, 1.0000],\n",
       "          [0.0510, 0.0510, 0.0549,  ..., 1.0000, 1.0000, 1.0000],\n",
       "          [0.0510, 0.0549, 0.0588,  ..., 1.0000, 1.0000, 1.0000]],\n",
       " \n",
       "         [[0.0431, 0.0431, 0.0549,  ..., 0.1843, 0.1216, 0.1373],\n",
       "          [0.0314, 0.0275, 0.0510,  ..., 0.1098, 0.1020, 0.1725],\n",
       "          [0.0392, 0.0314, 0.0471,  ..., 0.1294, 0.1059, 0.1608],\n",
       "          ...,\n",
       "          [0.0392, 0.0431, 0.0471,  ..., 1.0000, 1.0000, 1.0000],\n",
       "          [0.0431, 0.0431, 0.0471,  ..., 1.0000, 1.0000, 1.0000],\n",
       "          [0.0431, 0.0471, 0.0510,  ..., 1.0000, 1.0000, 1.0000]],\n",
       " \n",
       "         [[0.0235, 0.0235, 0.0471,  ..., 0.0353, 0.0000, 0.0000],\n",
       "          [0.0118, 0.0196, 0.0431,  ..., 0.1333, 0.1294, 0.1569],\n",
       "          [0.0196, 0.0235, 0.0392,  ..., 0.2000, 0.1725, 0.1843],\n",
       "          ...,\n",
       "          [0.0431, 0.0471, 0.0510,  ..., 0.9529, 0.9529, 0.9529],\n",
       "          [0.0471, 0.0471, 0.0510,  ..., 0.9529, 0.9490, 0.9490],\n",
       "          [0.0471, 0.0510, 0.0549,  ..., 0.9490, 0.9490, 0.9412]]]),\n",
       " tensor([[[0.0353, 0.0549, 0.0431,  ..., 1.0000, 1.0000, 1.0000],\n",
       "          [0.0314, 0.0392, 0.0431,  ..., 1.0000, 1.0000, 1.0000],\n",
       "          [0.0275, 0.0314, 0.0392,  ..., 1.0000, 1.0000, 1.0000],\n",
       "          ...,\n",
       "          [0.0980, 0.1098, 0.1255,  ..., 0.1686, 0.1608, 0.1529],\n",
       "          [0.1059, 0.1059, 0.1020,  ..., 0.1647, 0.1608, 0.1569],\n",
       "          [0.1020, 0.1059, 0.1098,  ..., 0.1569, 0.1529, 0.1569]],\n",
       " \n",
       "         [[0.0392, 0.0588, 0.0471,  ..., 1.0000, 1.0000, 1.0000],\n",
       "          [0.0353, 0.0431, 0.0471,  ..., 1.0000, 1.0000, 1.0000],\n",
       "          [0.0314, 0.0353, 0.0431,  ..., 1.0000, 1.0000, 1.0000],\n",
       "          ...,\n",
       "          [0.1059, 0.1176, 0.1333,  ..., 0.1804, 0.1725, 0.1647],\n",
       "          [0.1137, 0.1137, 0.1098,  ..., 0.1765, 0.1725, 0.1686],\n",
       "          [0.1098, 0.1137, 0.1176,  ..., 0.1686, 0.1647, 0.1686]],\n",
       " \n",
       "         [[0.0196, 0.0392, 0.0275,  ..., 1.0000, 1.0000, 1.0000],\n",
       "          [0.0157, 0.0235, 0.0275,  ..., 1.0000, 1.0000, 1.0000],\n",
       "          [0.0118, 0.0157, 0.0235,  ..., 1.0000, 1.0000, 1.0000],\n",
       "          ...,\n",
       "          [0.1020, 0.1137, 0.1294,  ..., 0.2000, 0.1922, 0.1843],\n",
       "          [0.1098, 0.1098, 0.1059,  ..., 0.2039, 0.2000, 0.1961],\n",
       "          [0.1059, 0.1098, 0.1137,  ..., 0.1961, 0.1922, 0.1961]]]))"
      ]
     },
     "execution_count": 4,
     "metadata": {},
     "output_type": "execute_result"
    }
   ],
   "source": [
    "val_dataset[0]"
   ]
  },
  {
   "cell_type": "code",
   "execution_count": 5,
   "metadata": {},
   "outputs": [],
   "source": [
    "network = ResnetDispModel(3)"
   ]
  },
  {
   "cell_type": "code",
   "execution_count": 6,
   "metadata": {},
   "outputs": [],
   "source": [
    "val = Validator(val_loader, 1, use_gpu=True)"
   ]
  },
  {
   "cell_type": "code",
   "execution_count": 7,
   "metadata": {},
   "outputs": [],
   "source": [
    "opt = torch.optim.SGD(network.parameters(), lr=1e-2, weight_decay=1e-6,momentum=0.5,\n",
    "                                nesterov=False)"
   ]
  },
  {
   "cell_type": "code",
   "execution_count": 8,
   "metadata": {},
   "outputs": [],
   "source": [
    "# val.validate(network)"
   ]
  },
  {
   "cell_type": "code",
   "execution_count": 9,
   "metadata": {},
   "outputs": [],
   "source": [
    "trn = Trainer(network, trn_loader, opt, 8, use_gpu=True)"
   ]
  },
  {
   "cell_type": "code",
   "execution_count": 10,
   "metadata": {},
   "outputs": [],
   "source": [
    "trn.setValidator(val)"
   ]
  },
  {
   "cell_type": "code",
   "execution_count": 11,
   "metadata": {},
   "outputs": [
    {
     "name": "stdout",
     "output_type": "stream",
     "text": [
      "<Validator.Validator object at 0x7fde6c767910>\n"
     ]
    }
   ],
   "source": [
    "print(trn.validator)"
   ]
  },
  {
   "cell_type": "code",
   "execution_count": null,
   "metadata": {
    "scrolled": false
   },
   "outputs": [
    {
     "name": "stderr",
     "output_type": "stream",
     "text": [
      "/home/tempo/anaconda3/lib/python3.7/site-packages/torch/nn/functional.py:2693: UserWarning: Default grid_sample and affine_grid behavior will be changed to align_corners=False from 1.4.0. See the documentation of grid_sample for details.\n",
      "  warnings.warn(\"Default grid_sample and affine_grid behavior will be changed \"\n"
     ]
    },
    {
     "name": "stdout",
     "output_type": "stream",
     "text": [
      "Epoch: 0 Loss: 0.33073729637038446\n",
      "update model file with prev_score 3.688550231933594 and current score 2.6952969541549683\n"
     ]
    }
   ],
   "source": [
    "trn.run_train(50)"
   ]
  },
  {
   "cell_type": "code",
   "execution_count": null,
   "metadata": {},
   "outputs": [],
   "source": [
    "trained_net = trn.net"
   ]
  },
  {
   "cell_type": "code",
   "execution_count": null,
   "metadata": {},
   "outputs": [],
   "source": [
    "for left, right in val_loader:\n",
    "    \n",
    "    sample = left\n",
    "    break\n",
    "from matplotlib import pyplot as plt\n",
    "sample_np = np.array(sample)\n",
    "sample_np.shape\n",
    "# sample.size()"
   ]
  },
  {
   "cell_type": "code",
   "execution_count": null,
   "metadata": {},
   "outputs": [],
   "source": [
    "sample_np =np.transpose( np.squeeze(sample_np), axes=(1,2,0))\n",
    "print(sample_np.shape)"
   ]
  },
  {
   "cell_type": "code",
   "execution_count": null,
   "metadata": {},
   "outputs": [],
   "source": [
    "plt.imshow(sample_np)"
   ]
  },
  {
   "cell_type": "code",
   "execution_count": null,
   "metadata": {},
   "outputs": [],
   "source": [
    "disp1, disp2, disp3, disp4 = trained_net(sample.cuda())"
   ]
  },
  {
   "cell_type": "code",
   "execution_count": null,
   "metadata": {},
   "outputs": [],
   "source": [
    "disp1.size()"
   ]
  },
  {
   "cell_type": "code",
   "execution_count": null,
   "metadata": {},
   "outputs": [],
   "source": [
    "disp1_np = np.array(disp1.cpu().detach().numpy())\n",
    "disp1_np =np.squeeze(disp1_np)[0]\n",
    "plt.imshow(disp1_np, cmap=\"plasma\")"
   ]
  },
  {
   "cell_type": "code",
   "execution_count": null,
   "metadata": {},
   "outputs": [],
   "source": [
    "disp2_np = np.array(disp2.cpu().detach().numpy())\n",
    "disp2_np =np.squeeze(disp2_np)[0]\n",
    "plt.imshow(disp2_np, cmap=\"plasma\")"
   ]
  },
  {
   "cell_type": "code",
   "execution_count": null,
   "metadata": {},
   "outputs": [],
   "source": [
    "disp3_np = np.array(disp3.cpu().detach().numpy())\n",
    "disp3_np =np.squeeze(disp3_np)[0]\n",
    "plt.imshow(disp3_np, cmap=\"plasma\")"
   ]
  },
  {
   "cell_type": "code",
   "execution_count": null,
   "metadata": {},
   "outputs": [],
   "source": [
    "disp4_np = np.array(disp4.cpu().detach().numpy())\n",
    "disp4_np =np.squeeze(disp4_np)[0]\n",
    "plt.imshow(disp4_np, cmap=\"plasma\")"
   ]
  },
  {
   "cell_type": "code",
   "execution_count": null,
   "metadata": {},
   "outputs": [],
   "source": []
  }
 ],
 "metadata": {
  "kernelspec": {
   "display_name": "Python 3",
   "language": "python",
   "name": "python3"
  },
  "language_info": {
   "codemirror_mode": {
    "name": "ipython",
    "version": 3
   },
   "file_extension": ".py",
   "mimetype": "text/x-python",
   "name": "python",
   "nbconvert_exporter": "python",
   "pygments_lexer": "ipython3",
   "version": "3.7.5"
  }
 },
 "nbformat": 4,
 "nbformat_minor": 1
}
